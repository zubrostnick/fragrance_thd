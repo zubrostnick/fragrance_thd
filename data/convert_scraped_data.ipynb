{
 "cells": [
  {
   "cell_type": "code",
   "execution_count": 60,
   "id": "initial_id",
   "metadata": {
    "collapsed": true,
    "ExecuteTime": {
     "end_time": "2024-06-21T23:03:00.877492200Z",
     "start_time": "2024-06-21T23:03:00.794098400Z"
    }
   },
   "outputs": [],
   "source": [
    "from bs4 import BeautifulSoup\n",
    "import os\n",
    "import numpy as np\n",
    "import pandas as pd\n"
   ]
  },
  {
   "cell_type": "code",
   "execution_count": 61,
   "outputs": [],
   "source": [
    "file_name = 'fragrance_scrape_2020_italy_61_1.csv'"
   ],
   "metadata": {
    "collapsed": false,
    "ExecuteTime": {
     "end_time": "2024-06-21T23:03:00.880499Z",
     "start_time": "2024-06-21T23:03:00.799172Z"
    }
   },
   "id": "2e991d81a1871cfe"
  },
  {
   "cell_type": "code",
   "execution_count": 62,
   "outputs": [],
   "source": [
    "raw_data = pd.read_csv(file_name)\n",
    "perfume_data = raw_data.copy()"
   ],
   "metadata": {
    "collapsed": false,
    "ExecuteTime": {
     "end_time": "2024-06-21T23:03:01.152834800Z",
     "start_time": "2024-06-21T23:03:00.804155500Z"
    }
   },
   "id": "b908adbd0cdb2373"
  },
  {
   "cell_type": "markdown",
   "source": [
    "## Drop unnecessary scraping columns (web-scraper-order, web-scraper-start-url, product-link, product-link-href)"
   ],
   "metadata": {
    "collapsed": false
   },
   "id": "b5f02575c24fe5fd"
  },
  {
   "cell_type": "code",
   "execution_count": 63,
   "outputs": [],
   "source": [
    "perfume_data = perfume_data.drop(columns=['web-scraper-order', 'web-scraper-start-url', 'product-link', 'product-link-href'])"
   ],
   "metadata": {
    "collapsed": false,
    "ExecuteTime": {
     "end_time": "2024-06-21T23:03:01.209222800Z",
     "start_time": "2024-06-21T23:03:00.830144200Z"
    }
   },
   "id": "b04fbbfd9b3598f6"
  },
  {
   "cell_type": "code",
   "execution_count": 64,
   "outputs": [
    {
     "data": {
      "text/plain": "                                                name  \\\n0                  Duchessa Gritti for women and men   \n1       Acqua di Giò Profondo Giorgio Armani for men   \n2                  Madeleine Masque Milano for women   \n3  Emporio Armani Stronger With You Leather Giorg...   \n4  Aperitivo Milanese Porta Nuova Trussardi for w...   \n\n                                             accords  \\\n0  <div class=\"cell accord-box\"><div class=\"accor...   \n1  <div class=\"cell accord-box\"><div class=\"accor...   \n2  <div class=\"cell accord-box\"><div class=\"accor...   \n3  <div class=\"cell accord-box\"><div class=\"accor...   \n4  <div class=\"cell accord-box\"><div class=\"accor...   \n\n                                               notes  \\\n0  <div class=\"cell\"><div style=\"display: flex; f...   \n1  <div class=\"cell\"><div style=\"display: flex; f...   \n2  <div class=\"cell\"><div style=\"display: flex; f...   \n3  <div class=\"cell\"><div style=\"display: flex; f...   \n4  <div class=\"cell\"><div style=\"display: flex; f...   \n\n                                           longevity  \\\n0  <div class=\"grid-x grid-margin-x\"><div class=\"...   \n1  <div class=\"grid-x grid-margin-x\"><div class=\"...   \n2  <div class=\"grid-x grid-margin-x\"><div class=\"...   \n3  <div class=\"grid-x grid-margin-x\"><div class=\"...   \n4  <div class=\"grid-x grid-margin-x\"><div class=\"...   \n\n                                             sillage  \\\n0  <div class=\"grid-x grid-margin-x\"><div class=\"...   \n1  <div class=\"grid-x grid-margin-x\"><div class=\"...   \n2  <div class=\"grid-x grid-margin-x\"><div class=\"...   \n3  <div class=\"grid-x grid-margin-x\"><div class=\"...   \n4  <div class=\"grid-x grid-margin-x\"><div class=\"...   \n\n                                              gender price-value  \\\n0  <div class=\"grid-x grid-margin-x\"><div class=\"...         NaN   \n1  <div class=\"grid-x grid-margin-x\"><div class=\"...         NaN   \n2  <div class=\"grid-x grid-margin-x\"><div class=\"...         NaN   \n3  <div class=\"grid-x grid-margin-x\"><div class=\"...         NaN   \n4  <div class=\"grid-x grid-margin-x\"><div class=\"...         NaN   \n\n                                              winter  \\\n0  <div style=\"border-radius: 0.2rem; height: 0.3...   \n1  <div style=\"border-radius: 0.2rem; height: 0.3...   \n2  <div style=\"border-radius: 0.2rem; height: 0.3...   \n3  <div style=\"border-radius: 0.2rem; height: 0.3...   \n4  <div style=\"border-radius: 0.2rem; height: 0.3...   \n\n                                              spring  \\\n0  <div style=\"border-radius: 0.2rem; height: 0.3...   \n1  <div style=\"border-radius: 0.2rem; height: 0.3...   \n2  <div style=\"border-radius: 0.2rem; height: 0.3...   \n3  <div style=\"border-radius: 0.2rem; height: 0.3...   \n4  <div style=\"border-radius: 0.2rem; height: 0.3...   \n\n                                              summer  fall  day  night  votes  \\\n0  <div style=\"border-radius: 0.2rem; height: 0.3...   NaN  NaN    NaN    547   \n1  <div style=\"border-radius: 0.2rem; height: 0.3...   NaN  NaN    NaN  7,714   \n2  <div style=\"border-radius: 0.2rem; height: 0.3...   NaN  NaN    NaN    382   \n3  <div style=\"border-radius: 0.2rem; height: 0.3...   NaN  NaN    NaN    525   \n4  <div style=\"border-radius: 0.2rem; height: 0.3...   NaN  NaN    NaN    885   \n\n   rating  \n0    3.90  \n1    4.33  \n2    3.85  \n3    4.56  \n4    4.10  ",
      "text/html": "<div>\n<style scoped>\n    .dataframe tbody tr th:only-of-type {\n        vertical-align: middle;\n    }\n\n    .dataframe tbody tr th {\n        vertical-align: top;\n    }\n\n    .dataframe thead th {\n        text-align: right;\n    }\n</style>\n<table border=\"1\" class=\"dataframe\">\n  <thead>\n    <tr style=\"text-align: right;\">\n      <th></th>\n      <th>name</th>\n      <th>accords</th>\n      <th>notes</th>\n      <th>longevity</th>\n      <th>sillage</th>\n      <th>gender</th>\n      <th>price-value</th>\n      <th>winter</th>\n      <th>spring</th>\n      <th>summer</th>\n      <th>fall</th>\n      <th>day</th>\n      <th>night</th>\n      <th>votes</th>\n      <th>rating</th>\n    </tr>\n  </thead>\n  <tbody>\n    <tr>\n      <th>0</th>\n      <td>Duchessa Gritti for women and men</td>\n      <td>&lt;div class=\"cell accord-box\"&gt;&lt;div class=\"accor...</td>\n      <td>&lt;div class=\"cell\"&gt;&lt;div style=\"display: flex; f...</td>\n      <td>&lt;div class=\"grid-x grid-margin-x\"&gt;&lt;div class=\"...</td>\n      <td>&lt;div class=\"grid-x grid-margin-x\"&gt;&lt;div class=\"...</td>\n      <td>&lt;div class=\"grid-x grid-margin-x\"&gt;&lt;div class=\"...</td>\n      <td>NaN</td>\n      <td>&lt;div style=\"border-radius: 0.2rem; height: 0.3...</td>\n      <td>&lt;div style=\"border-radius: 0.2rem; height: 0.3...</td>\n      <td>&lt;div style=\"border-radius: 0.2rem; height: 0.3...</td>\n      <td>NaN</td>\n      <td>NaN</td>\n      <td>NaN</td>\n      <td>547</td>\n      <td>3.90</td>\n    </tr>\n    <tr>\n      <th>1</th>\n      <td>Acqua di Giò Profondo Giorgio Armani for men</td>\n      <td>&lt;div class=\"cell accord-box\"&gt;&lt;div class=\"accor...</td>\n      <td>&lt;div class=\"cell\"&gt;&lt;div style=\"display: flex; f...</td>\n      <td>&lt;div class=\"grid-x grid-margin-x\"&gt;&lt;div class=\"...</td>\n      <td>&lt;div class=\"grid-x grid-margin-x\"&gt;&lt;div class=\"...</td>\n      <td>&lt;div class=\"grid-x grid-margin-x\"&gt;&lt;div class=\"...</td>\n      <td>NaN</td>\n      <td>&lt;div style=\"border-radius: 0.2rem; height: 0.3...</td>\n      <td>&lt;div style=\"border-radius: 0.2rem; height: 0.3...</td>\n      <td>&lt;div style=\"border-radius: 0.2rem; height: 0.3...</td>\n      <td>NaN</td>\n      <td>NaN</td>\n      <td>NaN</td>\n      <td>7,714</td>\n      <td>4.33</td>\n    </tr>\n    <tr>\n      <th>2</th>\n      <td>Madeleine Masque Milano for women</td>\n      <td>&lt;div class=\"cell accord-box\"&gt;&lt;div class=\"accor...</td>\n      <td>&lt;div class=\"cell\"&gt;&lt;div style=\"display: flex; f...</td>\n      <td>&lt;div class=\"grid-x grid-margin-x\"&gt;&lt;div class=\"...</td>\n      <td>&lt;div class=\"grid-x grid-margin-x\"&gt;&lt;div class=\"...</td>\n      <td>&lt;div class=\"grid-x grid-margin-x\"&gt;&lt;div class=\"...</td>\n      <td>NaN</td>\n      <td>&lt;div style=\"border-radius: 0.2rem; height: 0.3...</td>\n      <td>&lt;div style=\"border-radius: 0.2rem; height: 0.3...</td>\n      <td>&lt;div style=\"border-radius: 0.2rem; height: 0.3...</td>\n      <td>NaN</td>\n      <td>NaN</td>\n      <td>NaN</td>\n      <td>382</td>\n      <td>3.85</td>\n    </tr>\n    <tr>\n      <th>3</th>\n      <td>Emporio Armani Stronger With You Leather Giorg...</td>\n      <td>&lt;div class=\"cell accord-box\"&gt;&lt;div class=\"accor...</td>\n      <td>&lt;div class=\"cell\"&gt;&lt;div style=\"display: flex; f...</td>\n      <td>&lt;div class=\"grid-x grid-margin-x\"&gt;&lt;div class=\"...</td>\n      <td>&lt;div class=\"grid-x grid-margin-x\"&gt;&lt;div class=\"...</td>\n      <td>&lt;div class=\"grid-x grid-margin-x\"&gt;&lt;div class=\"...</td>\n      <td>NaN</td>\n      <td>&lt;div style=\"border-radius: 0.2rem; height: 0.3...</td>\n      <td>&lt;div style=\"border-radius: 0.2rem; height: 0.3...</td>\n      <td>&lt;div style=\"border-radius: 0.2rem; height: 0.3...</td>\n      <td>NaN</td>\n      <td>NaN</td>\n      <td>NaN</td>\n      <td>525</td>\n      <td>4.56</td>\n    </tr>\n    <tr>\n      <th>4</th>\n      <td>Aperitivo Milanese Porta Nuova Trussardi for w...</td>\n      <td>&lt;div class=\"cell accord-box\"&gt;&lt;div class=\"accor...</td>\n      <td>&lt;div class=\"cell\"&gt;&lt;div style=\"display: flex; f...</td>\n      <td>&lt;div class=\"grid-x grid-margin-x\"&gt;&lt;div class=\"...</td>\n      <td>&lt;div class=\"grid-x grid-margin-x\"&gt;&lt;div class=\"...</td>\n      <td>&lt;div class=\"grid-x grid-margin-x\"&gt;&lt;div class=\"...</td>\n      <td>NaN</td>\n      <td>&lt;div style=\"border-radius: 0.2rem; height: 0.3...</td>\n      <td>&lt;div style=\"border-radius: 0.2rem; height: 0.3...</td>\n      <td>&lt;div style=\"border-radius: 0.2rem; height: 0.3...</td>\n      <td>NaN</td>\n      <td>NaN</td>\n      <td>NaN</td>\n      <td>885</td>\n      <td>4.10</td>\n    </tr>\n  </tbody>\n</table>\n</div>"
     },
     "execution_count": 64,
     "metadata": {},
     "output_type": "execute_result"
    }
   ],
   "source": [
    "perfume_data.head()"
   ],
   "metadata": {
    "collapsed": false,
    "ExecuteTime": {
     "end_time": "2024-06-21T23:03:01.232160500Z",
     "start_time": "2024-06-21T23:03:00.836471200Z"
    }
   },
   "id": "90294df20a9e5026"
  },
  {
   "cell_type": "markdown",
   "source": [
    "## Extracting season and day/night percentage values"
   ],
   "metadata": {
    "collapsed": false
   },
   "id": "1e9c6bf0450a398d"
  },
  {
   "cell_type": "code",
   "execution_count": 65,
   "outputs": [],
   "source": [
    "def get_season_day_night(html_element):\n",
    "    try: \n",
    "        #soup = BeautifulSoup(html_element, 'lxml')\n",
    "        percentage = html_element.split(';')[-3].split(':')[-1].strip('%;')\n",
    "    except Exception: \n",
    "        return 0\n",
    "    return float(percentage)"
   ],
   "metadata": {
    "collapsed": false,
    "ExecuteTime": {
     "end_time": "2024-06-21T23:03:01.233157900Z",
     "start_time": "2024-06-21T23:03:00.853673Z"
    }
   },
   "id": "392c2c727a548bbc"
  },
  {
   "cell_type": "code",
   "execution_count": 66,
   "outputs": [
    {
     "name": "stdout",
     "output_type": "stream",
     "text": [
      "98.5782\n"
     ]
    }
   ],
   "source": [
    "test_season = '<div style=\"border-radius: 0.2rem; height: 0.3rem; background: rgb(120, 214, 240); width: 98.5782%; opacity: 1;\"></div>'\n",
    "print(get_season_day_night(test_season))"
   ],
   "metadata": {
    "collapsed": false,
    "ExecuteTime": {
     "end_time": "2024-06-21T23:03:01.234154400Z",
     "start_time": "2024-06-21T23:03:00.858657500Z"
    }
   },
   "id": "6cd1d15fd216b9c9"
  },
  {
   "cell_type": "code",
   "execution_count": 67,
   "outputs": [],
   "source": [
    "perfume_data['winter'] = perfume_data['winter'].apply(get_season_day_night)\n",
    "perfume_data['spring'] = perfume_data['spring'].apply(get_season_day_night)\n",
    "perfume_data['fall'] = perfume_data['fall'].apply(get_season_day_night)\n",
    "perfume_data['summer'] = perfume_data['summer'].apply(get_season_day_night)\n",
    "perfume_data['day'] = perfume_data['day'].apply(get_season_day_night)\n",
    "perfume_data['night'] = perfume_data['night'].apply(get_season_day_night)"
   ],
   "metadata": {
    "collapsed": false,
    "ExecuteTime": {
     "end_time": "2024-06-21T23:03:01.234154400Z",
     "start_time": "2024-06-21T23:03:00.868630400Z"
    }
   },
   "id": "50fee4fcadf1d6f7"
  },
  {
   "cell_type": "code",
   "execution_count": 68,
   "outputs": [
    {
     "data": {
      "text/plain": "                                                name  \\\n0                  Duchessa Gritti for women and men   \n1       Acqua di Giò Profondo Giorgio Armani for men   \n2                  Madeleine Masque Milano for women   \n3  Emporio Armani Stronger With You Leather Giorg...   \n4  Aperitivo Milanese Porta Nuova Trussardi for w...   \n\n                                             accords  \\\n0  <div class=\"cell accord-box\"><div class=\"accor...   \n1  <div class=\"cell accord-box\"><div class=\"accor...   \n2  <div class=\"cell accord-box\"><div class=\"accor...   \n3  <div class=\"cell accord-box\"><div class=\"accor...   \n4  <div class=\"cell accord-box\"><div class=\"accor...   \n\n                                               notes  \\\n0  <div class=\"cell\"><div style=\"display: flex; f...   \n1  <div class=\"cell\"><div style=\"display: flex; f...   \n2  <div class=\"cell\"><div style=\"display: flex; f...   \n3  <div class=\"cell\"><div style=\"display: flex; f...   \n4  <div class=\"cell\"><div style=\"display: flex; f...   \n\n                                           longevity  \\\n0  <div class=\"grid-x grid-margin-x\"><div class=\"...   \n1  <div class=\"grid-x grid-margin-x\"><div class=\"...   \n2  <div class=\"grid-x grid-margin-x\"><div class=\"...   \n3  <div class=\"grid-x grid-margin-x\"><div class=\"...   \n4  <div class=\"grid-x grid-margin-x\"><div class=\"...   \n\n                                             sillage  \\\n0  <div class=\"grid-x grid-margin-x\"><div class=\"...   \n1  <div class=\"grid-x grid-margin-x\"><div class=\"...   \n2  <div class=\"grid-x grid-margin-x\"><div class=\"...   \n3  <div class=\"grid-x grid-margin-x\"><div class=\"...   \n4  <div class=\"grid-x grid-margin-x\"><div class=\"...   \n\n                                              gender price-value     winter  \\\n0  <div class=\"grid-x grid-margin-x\"><div class=\"...         NaN   98.57820   \n1  <div class=\"grid-x grid-margin-x\"><div class=\"...         NaN    9.47292   \n2  <div class=\"grid-x grid-margin-x\"><div class=\"...         NaN   92.00000   \n3  <div class=\"grid-x grid-margin-x\"><div class=\"...         NaN  100.00000   \n4  <div class=\"grid-x grid-margin-x\"><div class=\"...         NaN   75.15920   \n\n    spring     summer  fall  day  night  votes  rating  \n0  44.5498   21.32700     0    0      0    547    3.90  \n1  82.0685  100.00000     0    0      0  7,714    4.33  \n2  45.6000   14.40000     0    0      0    382    3.85  \n3  28.3379    8.99183     0    0      0    525    4.56  \n4  74.2038   37.57960     0    0      0    885    4.10  ",
      "text/html": "<div>\n<style scoped>\n    .dataframe tbody tr th:only-of-type {\n        vertical-align: middle;\n    }\n\n    .dataframe tbody tr th {\n        vertical-align: top;\n    }\n\n    .dataframe thead th {\n        text-align: right;\n    }\n</style>\n<table border=\"1\" class=\"dataframe\">\n  <thead>\n    <tr style=\"text-align: right;\">\n      <th></th>\n      <th>name</th>\n      <th>accords</th>\n      <th>notes</th>\n      <th>longevity</th>\n      <th>sillage</th>\n      <th>gender</th>\n      <th>price-value</th>\n      <th>winter</th>\n      <th>spring</th>\n      <th>summer</th>\n      <th>fall</th>\n      <th>day</th>\n      <th>night</th>\n      <th>votes</th>\n      <th>rating</th>\n    </tr>\n  </thead>\n  <tbody>\n    <tr>\n      <th>0</th>\n      <td>Duchessa Gritti for women and men</td>\n      <td>&lt;div class=\"cell accord-box\"&gt;&lt;div class=\"accor...</td>\n      <td>&lt;div class=\"cell\"&gt;&lt;div style=\"display: flex; f...</td>\n      <td>&lt;div class=\"grid-x grid-margin-x\"&gt;&lt;div class=\"...</td>\n      <td>&lt;div class=\"grid-x grid-margin-x\"&gt;&lt;div class=\"...</td>\n      <td>&lt;div class=\"grid-x grid-margin-x\"&gt;&lt;div class=\"...</td>\n      <td>NaN</td>\n      <td>98.57820</td>\n      <td>44.5498</td>\n      <td>21.32700</td>\n      <td>0</td>\n      <td>0</td>\n      <td>0</td>\n      <td>547</td>\n      <td>3.90</td>\n    </tr>\n    <tr>\n      <th>1</th>\n      <td>Acqua di Giò Profondo Giorgio Armani for men</td>\n      <td>&lt;div class=\"cell accord-box\"&gt;&lt;div class=\"accor...</td>\n      <td>&lt;div class=\"cell\"&gt;&lt;div style=\"display: flex; f...</td>\n      <td>&lt;div class=\"grid-x grid-margin-x\"&gt;&lt;div class=\"...</td>\n      <td>&lt;div class=\"grid-x grid-margin-x\"&gt;&lt;div class=\"...</td>\n      <td>&lt;div class=\"grid-x grid-margin-x\"&gt;&lt;div class=\"...</td>\n      <td>NaN</td>\n      <td>9.47292</td>\n      <td>82.0685</td>\n      <td>100.00000</td>\n      <td>0</td>\n      <td>0</td>\n      <td>0</td>\n      <td>7,714</td>\n      <td>4.33</td>\n    </tr>\n    <tr>\n      <th>2</th>\n      <td>Madeleine Masque Milano for women</td>\n      <td>&lt;div class=\"cell accord-box\"&gt;&lt;div class=\"accor...</td>\n      <td>&lt;div class=\"cell\"&gt;&lt;div style=\"display: flex; f...</td>\n      <td>&lt;div class=\"grid-x grid-margin-x\"&gt;&lt;div class=\"...</td>\n      <td>&lt;div class=\"grid-x grid-margin-x\"&gt;&lt;div class=\"...</td>\n      <td>&lt;div class=\"grid-x grid-margin-x\"&gt;&lt;div class=\"...</td>\n      <td>NaN</td>\n      <td>92.00000</td>\n      <td>45.6000</td>\n      <td>14.40000</td>\n      <td>0</td>\n      <td>0</td>\n      <td>0</td>\n      <td>382</td>\n      <td>3.85</td>\n    </tr>\n    <tr>\n      <th>3</th>\n      <td>Emporio Armani Stronger With You Leather Giorg...</td>\n      <td>&lt;div class=\"cell accord-box\"&gt;&lt;div class=\"accor...</td>\n      <td>&lt;div class=\"cell\"&gt;&lt;div style=\"display: flex; f...</td>\n      <td>&lt;div class=\"grid-x grid-margin-x\"&gt;&lt;div class=\"...</td>\n      <td>&lt;div class=\"grid-x grid-margin-x\"&gt;&lt;div class=\"...</td>\n      <td>&lt;div class=\"grid-x grid-margin-x\"&gt;&lt;div class=\"...</td>\n      <td>NaN</td>\n      <td>100.00000</td>\n      <td>28.3379</td>\n      <td>8.99183</td>\n      <td>0</td>\n      <td>0</td>\n      <td>0</td>\n      <td>525</td>\n      <td>4.56</td>\n    </tr>\n    <tr>\n      <th>4</th>\n      <td>Aperitivo Milanese Porta Nuova Trussardi for w...</td>\n      <td>&lt;div class=\"cell accord-box\"&gt;&lt;div class=\"accor...</td>\n      <td>&lt;div class=\"cell\"&gt;&lt;div style=\"display: flex; f...</td>\n      <td>&lt;div class=\"grid-x grid-margin-x\"&gt;&lt;div class=\"...</td>\n      <td>&lt;div class=\"grid-x grid-margin-x\"&gt;&lt;div class=\"...</td>\n      <td>&lt;div class=\"grid-x grid-margin-x\"&gt;&lt;div class=\"...</td>\n      <td>NaN</td>\n      <td>75.15920</td>\n      <td>74.2038</td>\n      <td>37.57960</td>\n      <td>0</td>\n      <td>0</td>\n      <td>0</td>\n      <td>885</td>\n      <td>4.10</td>\n    </tr>\n  </tbody>\n</table>\n</div>"
     },
     "execution_count": 68,
     "metadata": {},
     "output_type": "execute_result"
    }
   ],
   "source": [
    "perfume_data.head()"
   ],
   "metadata": {
    "collapsed": false,
    "ExecuteTime": {
     "end_time": "2024-06-21T23:03:01.250112Z",
     "start_time": "2024-06-21T23:03:00.877492200Z"
    }
   },
   "id": "c53cc87608fabcc4"
  },
  {
   "cell_type": "markdown",
   "source": [
    "## Extracting Longevity, Sillage, Gender, Price-Value values"
   ],
   "metadata": {
    "collapsed": false
   },
   "id": "14b78f67ef6aad38"
  },
  {
   "cell_type": "code",
   "execution_count": 69,
   "outputs": [],
   "source": [
    "def extract_long_sill_gend_pv(html):\n",
    "    gender_votes = {}\n",
    "    try:\n",
    "        soup = BeautifulSoup(html, 'html.parser')\n",
    "        for div in soup.find_all('div', class_='grid-x grid-margin-x'):\n",
    "            gender = div.find('span', class_='vote-button-name').text.strip()\n",
    "            votes = int(div.find('span', class_='vote-button-legend').text.strip())\n",
    "            gender_votes[gender] = votes\n",
    "    except Exception as e:\n",
    "        print(\"Error detected\", e)\n",
    "        return gender_votes\n",
    "        \n",
    "    return gender_votes"
   ],
   "metadata": {
    "collapsed": false,
    "ExecuteTime": {
     "end_time": "2024-06-21T23:03:01.251110800Z",
     "start_time": "2024-06-21T23:03:00.892054600Z"
    }
   },
   "id": "a571a69487fd46a4"
  },
  {
   "cell_type": "code",
   "execution_count": 70,
   "outputs": [
    {
     "name": "stdout",
     "output_type": "stream",
     "text": [
      "{'female': 266, 'more female': 161, 'unisex': 172, 'more male': 7, 'male': 8}\n",
      "{'very weak': 10, 'weak': 25, 'moderate': 89, 'long lasting': 84, 'eternal': 29}\n"
     ]
    }
   ],
   "source": [
    "test_gender = \"\"\"<div class=\"grid-x grid-margin-x\"><div class=\"cell small-5 medium-5 large-5\"><span class=\"vote-button-name\">female</span></div> <div class=\"cell small-1 medium-1 large-1\"><span class=\"vote-button-legend\">266</span></div> <div class=\"cell small-6 medium-6 large-6\" style=\"display: inline-flex; align-items: center; justify-content: center;\"><progress max=\"614\" class=\"alert\" value=\"266\" style=\"color: crimson; cursor: pointer;\"></progress></div></div><div class=\"grid-x grid-margin-x\"><div class=\"cell small-5 medium-5 large-5\"><span class=\"vote-button-name\">more female</span></div> <div class=\"cell small-1 medium-1 large-1\"><span class=\"vote-button-legend\">161</span></div> <div class=\"cell small-6 medium-6 large-6\" style=\"display: inline-flex; align-items: center; justify-content: center;\"><progress max=\"614\" class=\"alert\" value=\"161\" style=\"color: crimson; cursor: pointer;\"></progress></div></div><div class=\"grid-x grid-margin-x\"><div class=\"cell small-5 medium-5 large-5\"><span class=\"vote-button-name\">unisex</span></div> <div class=\"cell small-1 medium-1 large-1\"><span class=\"vote-button-legend\">172</span></div> <div class=\"cell small-6 medium-6 large-6\" style=\"display: inline-flex; align-items: center; justify-content: center;\"><progress max=\"614\" class=\"alert\" value=\"172\" style=\"color: crimson; cursor: pointer;\"></progress></div></div><div class=\"grid-x grid-margin-x\"><div class=\"cell small-5 medium-5 large-5\"><span class=\"vote-button-name\">more male</span></div> <div class=\"cell small-1 medium-1 large-1\"><span class=\"vote-button-legend\">7</span></div> <div class=\"cell small-6 medium-6 large-6\" style=\"display: inline-flex; align-items: center; justify-content: center;\"><progress max=\"614\" class=\"alert\" value=\"7\" style=\"color: crimson; cursor: pointer;\"></progress></div></div><div class=\"grid-x grid-margin-x\"><div class=\"cell small-5 medium-5 large-5\"><span class=\"vote-button-name\">male</span></div> <div class=\"cell small-1 medium-1 large-1\"><span class=\"vote-button-legend\">8</span></div> <div class=\"cell small-6 medium-6 large-6\" style=\"display: inline-flex; align-items: center; justify-content: center;\"><progress max=\"614\" class=\"alert\" value=\"8\" style=\"color: crimson; cursor: pointer;\"></progress></div></div>\"\"\"\n",
    "\n",
    "\n",
    "test_longevity = \"\"\"\n",
    "<div class=\"grid-x grid-margin-x\"><div class=\"cell small-5 medium-5 large-5\"><span class=\"vote-button-name\">very weak</span></div> <div class=\"cell small-1 medium-1 large-1\"><span class=\"vote-button-legend\">10</span></div> <div class=\"cell small-6 medium-6 large-6\" style=\"display: inline-flex; align-items: center; justify-content: center;\"><progress max=\"237\" class=\"alert\" value=\"10\" style=\"color: crimson; cursor: pointer;\"></progress></div></div><div class=\"grid-x grid-margin-x\"><div class=\"cell small-5 medium-5 large-5\"><span class=\"vote-button-name\">weak</span></div> <div class=\"cell small-1 medium-1 large-1\"><span class=\"vote-button-legend\">25</span></div> <div class=\"cell small-6 medium-6 large-6\" style=\"display: inline-flex; align-items: center; justify-content: center;\"><progress max=\"237\" class=\"alert\" value=\"25\" style=\"color: crimson; cursor: pointer;\"></progress></div></div><div class=\"grid-x grid-margin-x\"><div class=\"cell small-5 medium-5 large-5\"><span class=\"vote-button-name\">moderate</span></div> <div class=\"cell small-1 medium-1 large-1\"><span class=\"vote-button-legend\">89</span></div> <div class=\"cell small-6 medium-6 large-6\" style=\"display: inline-flex; align-items: center; justify-content: center;\"><progress max=\"237\" class=\"alert\" value=\"89\" style=\"color: crimson; cursor: pointer;\"></progress></div></div><div class=\"grid-x grid-margin-x\"><div class=\"cell small-5 medium-5 large-5\"><span class=\"vote-button-name\">long lasting</span></div> <div class=\"cell small-1 medium-1 large-1\"><span class=\"vote-button-legend\">84</span></div> <div class=\"cell small-6 medium-6 large-6\" style=\"display: inline-flex; align-items: center; justify-content: center;\"><progress max=\"237\" class=\"alert\" value=\"84\" style=\"color: crimson; cursor: pointer;\"></progress></div></div><div class=\"grid-x grid-margin-x\"><div class=\"cell small-5 medium-5 large-5\"><span class=\"vote-button-name\">eternal</span></div> <div class=\"cell small-1 medium-1 large-1\"><span class=\"vote-button-legend\">29</span></div> <div class=\"cell small-6 medium-6 large-6\" style=\"display: inline-flex; align-items: center; justify-content: center;\"><progress max=\"237\" class=\"alert\" value=\"29\" style=\"color: crimson; cursor: pointer;\"></progress></div></div>\n",
    "\"\"\"\n",
    "\n",
    "print(extract_long_sill_gend_pv(test_gender))\n",
    "print(extract_long_sill_gend_pv(test_longevity))"
   ],
   "metadata": {
    "collapsed": false,
    "ExecuteTime": {
     "end_time": "2024-06-21T23:03:01.251110800Z",
     "start_time": "2024-06-21T23:03:00.902445900Z"
    }
   },
   "id": "2666c7097ff547ec"
  },
  {
   "cell_type": "code",
   "execution_count": 71,
   "outputs": [
    {
     "name": "stdout",
     "output_type": "stream",
     "text": [
      "Error detected object of type 'float' has no len()\n",
      "Error detected object of type 'float' has no len()\n",
      "Error detected object of type 'float' has no len()\n",
      "Error detected object of type 'float' has no len()\n",
      "Error detected object of type 'float' has no len()\n",
      "Error detected object of type 'float' has no len()\n",
      "Error detected object of type 'float' has no len()\n",
      "Error detected object of type 'float' has no len()\n",
      "Error detected object of type 'float' has no len()\n",
      "Error detected object of type 'float' has no len()\n",
      "Error detected object of type 'float' has no len()\n",
      "Error detected object of type 'float' has no len()\n",
      "Error detected object of type 'float' has no len()\n",
      "Error detected object of type 'float' has no len()\n",
      "Error detected object of type 'float' has no len()\n",
      "Error detected object of type 'float' has no len()\n",
      "Error detected object of type 'float' has no len()\n",
      "Error detected object of type 'float' has no len()\n",
      "Error detected object of type 'float' has no len()\n",
      "Error detected object of type 'float' has no len()\n",
      "Error detected object of type 'float' has no len()\n",
      "Error detected object of type 'float' has no len()\n",
      "Error detected object of type 'float' has no len()\n",
      "Error detected object of type 'float' has no len()\n",
      "Error detected object of type 'float' has no len()\n",
      "Error detected object of type 'float' has no len()\n",
      "Error detected object of type 'float' has no len()\n",
      "Error detected object of type 'float' has no len()\n",
      "Error detected object of type 'float' has no len()\n",
      "Error detected object of type 'float' has no len()\n",
      "Error detected object of type 'float' has no len()\n",
      "Error detected object of type 'float' has no len()\n",
      "Error detected object of type 'float' has no len()\n",
      "Error detected object of type 'float' has no len()\n",
      "Error detected object of type 'float' has no len()\n",
      "Error detected object of type 'float' has no len()\n",
      "Error detected object of type 'float' has no len()\n",
      "Error detected object of type 'float' has no len()\n",
      "Error detected object of type 'float' has no len()\n",
      "Error detected object of type 'float' has no len()\n",
      "Error detected object of type 'float' has no len()\n",
      "Error detected object of type 'float' has no len()\n",
      "Error detected object of type 'float' has no len()\n",
      "Error detected object of type 'float' has no len()\n",
      "Error detected object of type 'float' has no len()\n",
      "Error detected object of type 'float' has no len()\n",
      "Error detected object of type 'float' has no len()\n"
     ]
    }
   ],
   "source": [
    "perfume_data['longevity'] = perfume_data['longevity'].apply(extract_long_sill_gend_pv)\n",
    "perfume_data['sillage'] = perfume_data['sillage'].apply(extract_long_sill_gend_pv)\n",
    "perfume_data['gender'] = perfume_data['gender'].apply(extract_long_sill_gend_pv)\n",
    "perfume_data['price-value'] = perfume_data['price-value'].apply(extract_long_sill_gend_pv)"
   ],
   "metadata": {
    "collapsed": false,
    "ExecuteTime": {
     "end_time": "2024-06-21T23:03:01.501927500Z",
     "start_time": "2024-06-21T23:03:00.918455500Z"
    }
   },
   "id": "9b22f2cfd8ebfe6e"
  },
  {
   "cell_type": "code",
   "execution_count": 72,
   "outputs": [
    {
     "data": {
      "text/plain": "                                                name  \\\n0                  Duchessa Gritti for women and men   \n1       Acqua di Giò Profondo Giorgio Armani for men   \n2                  Madeleine Masque Milano for women   \n3  Emporio Armani Stronger With You Leather Giorg...   \n4  Aperitivo Milanese Porta Nuova Trussardi for w...   \n\n                                             accords  \\\n0  <div class=\"cell accord-box\"><div class=\"accor...   \n1  <div class=\"cell accord-box\"><div class=\"accor...   \n2  <div class=\"cell accord-box\"><div class=\"accor...   \n3  <div class=\"cell accord-box\"><div class=\"accor...   \n4  <div class=\"cell accord-box\"><div class=\"accor...   \n\n                                               notes  \\\n0  <div class=\"cell\"><div style=\"display: flex; f...   \n1  <div class=\"cell\"><div style=\"display: flex; f...   \n2  <div class=\"cell\"><div style=\"display: flex; f...   \n3  <div class=\"cell\"><div style=\"display: flex; f...   \n4  <div class=\"cell\"><div style=\"display: flex; f...   \n\n                                           longevity  \\\n0  {'very weak': 10, 'weak': 25, 'moderate': 89, ...   \n1  {'very weak': 150, 'weak': 390, 'moderate': 30...   \n2  {'very weak': 5, 'weak': 18, 'moderate': 81, '...   \n3  {'very weak': 8, 'weak': 11, 'moderate': 63, '...   \n4  {'very weak': 18, 'weak': 65, 'moderate': 204,...   \n\n                                             sillage  \\\n0  {'intimate': 28, 'moderate': 106, 'strong': 82...   \n1  {'intimate': 610, 'moderate': 3792, 'strong': ...   \n2  {'intimate': 29, 'moderate': 87, 'strong': 18,...   \n3  {'intimate': 12, 'moderate': 136, 'strong': 22...   \n4  {'intimate': 96, 'moderate': 235, 'strong': 66...   \n\n                                              gender price-value     winter  \\\n0  {'female': 116, 'more female': 79, 'unisex': 6...          {}   98.57820   \n1  {'female': 33, 'more female': 5, 'unisex': 164...          {}    9.47292   \n2  {'female': 61, 'more female': 57, 'unisex': 48...          {}   92.00000   \n3  {'female': 7, 'more female': 2, 'unisex': 56, ...          {}  100.00000   \n4  {'female': 252, 'more female': 94, 'unisex': 9...          {}   75.15920   \n\n    spring     summer  fall  day  night  votes  rating  \n0  44.5498   21.32700     0    0      0    547    3.90  \n1  82.0685  100.00000     0    0      0  7,714    4.33  \n2  45.6000   14.40000     0    0      0    382    3.85  \n3  28.3379    8.99183     0    0      0    525    4.56  \n4  74.2038   37.57960     0    0      0    885    4.10  ",
      "text/html": "<div>\n<style scoped>\n    .dataframe tbody tr th:only-of-type {\n        vertical-align: middle;\n    }\n\n    .dataframe tbody tr th {\n        vertical-align: top;\n    }\n\n    .dataframe thead th {\n        text-align: right;\n    }\n</style>\n<table border=\"1\" class=\"dataframe\">\n  <thead>\n    <tr style=\"text-align: right;\">\n      <th></th>\n      <th>name</th>\n      <th>accords</th>\n      <th>notes</th>\n      <th>longevity</th>\n      <th>sillage</th>\n      <th>gender</th>\n      <th>price-value</th>\n      <th>winter</th>\n      <th>spring</th>\n      <th>summer</th>\n      <th>fall</th>\n      <th>day</th>\n      <th>night</th>\n      <th>votes</th>\n      <th>rating</th>\n    </tr>\n  </thead>\n  <tbody>\n    <tr>\n      <th>0</th>\n      <td>Duchessa Gritti for women and men</td>\n      <td>&lt;div class=\"cell accord-box\"&gt;&lt;div class=\"accor...</td>\n      <td>&lt;div class=\"cell\"&gt;&lt;div style=\"display: flex; f...</td>\n      <td>{'very weak': 10, 'weak': 25, 'moderate': 89, ...</td>\n      <td>{'intimate': 28, 'moderate': 106, 'strong': 82...</td>\n      <td>{'female': 116, 'more female': 79, 'unisex': 6...</td>\n      <td>{}</td>\n      <td>98.57820</td>\n      <td>44.5498</td>\n      <td>21.32700</td>\n      <td>0</td>\n      <td>0</td>\n      <td>0</td>\n      <td>547</td>\n      <td>3.90</td>\n    </tr>\n    <tr>\n      <th>1</th>\n      <td>Acqua di Giò Profondo Giorgio Armani for men</td>\n      <td>&lt;div class=\"cell accord-box\"&gt;&lt;div class=\"accor...</td>\n      <td>&lt;div class=\"cell\"&gt;&lt;div style=\"display: flex; f...</td>\n      <td>{'very weak': 150, 'weak': 390, 'moderate': 30...</td>\n      <td>{'intimate': 610, 'moderate': 3792, 'strong': ...</td>\n      <td>{'female': 33, 'more female': 5, 'unisex': 164...</td>\n      <td>{}</td>\n      <td>9.47292</td>\n      <td>82.0685</td>\n      <td>100.00000</td>\n      <td>0</td>\n      <td>0</td>\n      <td>0</td>\n      <td>7,714</td>\n      <td>4.33</td>\n    </tr>\n    <tr>\n      <th>2</th>\n      <td>Madeleine Masque Milano for women</td>\n      <td>&lt;div class=\"cell accord-box\"&gt;&lt;div class=\"accor...</td>\n      <td>&lt;div class=\"cell\"&gt;&lt;div style=\"display: flex; f...</td>\n      <td>{'very weak': 5, 'weak': 18, 'moderate': 81, '...</td>\n      <td>{'intimate': 29, 'moderate': 87, 'strong': 18,...</td>\n      <td>{'female': 61, 'more female': 57, 'unisex': 48...</td>\n      <td>{}</td>\n      <td>92.00000</td>\n      <td>45.6000</td>\n      <td>14.40000</td>\n      <td>0</td>\n      <td>0</td>\n      <td>0</td>\n      <td>382</td>\n      <td>3.85</td>\n    </tr>\n    <tr>\n      <th>3</th>\n      <td>Emporio Armani Stronger With You Leather Giorg...</td>\n      <td>&lt;div class=\"cell accord-box\"&gt;&lt;div class=\"accor...</td>\n      <td>&lt;div class=\"cell\"&gt;&lt;div style=\"display: flex; f...</td>\n      <td>{'very weak': 8, 'weak': 11, 'moderate': 63, '...</td>\n      <td>{'intimate': 12, 'moderate': 136, 'strong': 22...</td>\n      <td>{'female': 7, 'more female': 2, 'unisex': 56, ...</td>\n      <td>{}</td>\n      <td>100.00000</td>\n      <td>28.3379</td>\n      <td>8.99183</td>\n      <td>0</td>\n      <td>0</td>\n      <td>0</td>\n      <td>525</td>\n      <td>4.56</td>\n    </tr>\n    <tr>\n      <th>4</th>\n      <td>Aperitivo Milanese Porta Nuova Trussardi for w...</td>\n      <td>&lt;div class=\"cell accord-box\"&gt;&lt;div class=\"accor...</td>\n      <td>&lt;div class=\"cell\"&gt;&lt;div style=\"display: flex; f...</td>\n      <td>{'very weak': 18, 'weak': 65, 'moderate': 204,...</td>\n      <td>{'intimate': 96, 'moderate': 235, 'strong': 66...</td>\n      <td>{'female': 252, 'more female': 94, 'unisex': 9...</td>\n      <td>{}</td>\n      <td>75.15920</td>\n      <td>74.2038</td>\n      <td>37.57960</td>\n      <td>0</td>\n      <td>0</td>\n      <td>0</td>\n      <td>885</td>\n      <td>4.10</td>\n    </tr>\n  </tbody>\n</table>\n</div>"
     },
     "execution_count": 72,
     "metadata": {},
     "output_type": "execute_result"
    }
   ],
   "source": [
    "perfume_data.head()"
   ],
   "metadata": {
    "collapsed": false,
    "ExecuteTime": {
     "end_time": "2024-06-21T23:03:01.503432900Z",
     "start_time": "2024-06-21T23:03:01.348848600Z"
    }
   },
   "id": "1d9c4d6197fe7ebd"
  },
  {
   "cell_type": "markdown",
   "source": [
    "## Extracting accords"
   ],
   "metadata": {
    "collapsed": false
   },
   "id": "400ccf5a2e265fb5"
  },
  {
   "cell_type": "code",
   "execution_count": 73,
   "outputs": [],
   "source": [
    "def get_accords(html_element):\n",
    "    accords = {}\n",
    "    soup = BeautifulSoup(html_element, 'html.parser')\n",
    "    accord_list = soup.find_all('div', {'class': 'accord-bar'})\n",
    "    for accord in accord_list:\n",
    "        name = accord.text.strip()\n",
    "        percentage = accord.get('style', '').split(':')[-1].strip('%;')\n",
    "        accords[name] = float(percentage)\n",
    "        \n",
    "    return accords"
   ],
   "metadata": {
    "collapsed": false,
    "ExecuteTime": {
     "end_time": "2024-06-21T23:03:01.503432900Z",
     "start_time": "2024-06-21T23:03:01.373687500Z"
    }
   },
   "id": "d1fdda3c24f85d80"
  },
  {
   "cell_type": "code",
   "execution_count": 74,
   "outputs": [
    {
     "name": "stdout",
     "output_type": "stream",
     "text": [
      "{'warm spicy': 100.0, 'almond': 88.0681, 'sweet': 70.0114, 'cherry': 67.7838, 'nutty': 64.8406, 'fruity': 63.767, 'citrus': 57.0454, 'metallic': 55.8524, 'iris': 51.4773, 'leather': 50.6816}\n"
     ]
    }
   ],
   "source": [
    "test_accords = \"\"\"\n",
    "<div class=\"cell accord-box\"><div class=\"accord-bar\" style=\"color: rgb(255, 255, 255); background: rgb(204, 51, 0); opacity: 1; width: 100%;\">warm spicy</div></div><div class=\"cell accord-box\"><div class=\"accord-bar\" style=\"color: rgb(0, 0, 0); background: rgb(241, 227, 197); opacity: 0.897727; width: 88.0681%;\">almond</div></div><div class=\"cell accord-box\"><div class=\"accord-bar\" style=\"color: rgb(255, 255, 255); background: rgb(238, 54, 59); opacity: 0.742954; width: 70.0114%;\">sweet</div></div><div class=\"cell accord-box\"><div class=\"accord-bar\" style=\"color: rgb(255, 255, 255); background: rgb(206, 29, 51); opacity: 0.723861; width: 67.7838%;\">cherry</div></div><div class=\"cell accord-box\"><div class=\"accord-bar\" style=\"color: rgb(0, 0, 0); background: rgb(180, 149, 95); opacity: 0.698634; width: 64.8406%;\">nutty</div></div><div class=\"cell accord-box\"><div class=\"accord-bar\" style=\"color: rgb(0, 0, 0); background: rgb(252, 75, 41); opacity: 0.689432; width: 63.767%;\">fruity</div></div><div class=\"cell accord-box\"><div class=\"accord-bar\" style=\"color: rgb(0, 0, 0); background: rgb(249, 255, 82); opacity: 0.631818; width: 57.0454%;\">citrus</div></div><div class=\"cell accord-box\"><div class=\"accord-bar\" style=\"color: rgb(0, 0, 0); background: rgb(151, 176, 183); opacity: 0.621592; width: 55.8524%;\">metallic</div></div><div class=\"cell accord-box\"><div class=\"accord-bar\" style=\"color: rgb(0, 0, 0); background: rgb(183, 167, 215); opacity: 0.584091; width: 51.4773%;\">iris</div></div><div class=\"cell accord-box\"><div class=\"accord-bar\" style=\"color: rgb(255, 255, 255); background: rgb(120, 72, 58); opacity: 0.577271; width: 50.6816%;\">leather</div></div>\n",
    "\"\"\"\n",
    "\n",
    "print(get_accords(test_accords))"
   ],
   "metadata": {
    "collapsed": false,
    "ExecuteTime": {
     "end_time": "2024-06-21T23:03:01.504431Z",
     "start_time": "2024-06-21T23:03:01.379668800Z"
    }
   },
   "id": "b0545505ccd79311"
  },
  {
   "cell_type": "code",
   "execution_count": 75,
   "outputs": [],
   "source": [
    "perfume_data['accords'] = perfume_data['accords'].apply(get_accords)"
   ],
   "metadata": {
    "collapsed": false,
    "ExecuteTime": {
     "end_time": "2024-06-21T23:03:01.582223200Z",
     "start_time": "2024-06-21T23:03:01.388108900Z"
    }
   },
   "id": "3c1991887c0b1b50"
  },
  {
   "cell_type": "code",
   "execution_count": 76,
   "outputs": [
    {
     "data": {
      "text/plain": "                                                name  \\\n0                  Duchessa Gritti for women and men   \n1       Acqua di Giò Profondo Giorgio Armani for men   \n2                  Madeleine Masque Milano for women   \n3  Emporio Armani Stronger With You Leather Giorg...   \n4  Aperitivo Milanese Porta Nuova Trussardi for w...   \n\n                                             accords  \\\n0  {'warm spicy': 100.0, 'almond': 88.0681, 'swee...   \n1  {'aromatic': 100.0, 'marine': 99.9096, 'citrus...   \n2  {'lactonic': 100.0, 'vanilla': 95.4457, 'sweet...   \n3  {'vanilla': 100.0, 'leather': 87.132, 'balsami...   \n4  {'powdery': 100.0, 'almond': 97.3641, 'vanilla...   \n\n                                               notes  \\\n0  <div class=\"cell\"><div style=\"display: flex; f...   \n1  <div class=\"cell\"><div style=\"display: flex; f...   \n2  <div class=\"cell\"><div style=\"display: flex; f...   \n3  <div class=\"cell\"><div style=\"display: flex; f...   \n4  <div class=\"cell\"><div style=\"display: flex; f...   \n\n                                           longevity  \\\n0  {'very weak': 10, 'weak': 25, 'moderate': 89, ...   \n1  {'very weak': 150, 'weak': 390, 'moderate': 30...   \n2  {'very weak': 5, 'weak': 18, 'moderate': 81, '...   \n3  {'very weak': 8, 'weak': 11, 'moderate': 63, '...   \n4  {'very weak': 18, 'weak': 65, 'moderate': 204,...   \n\n                                             sillage  \\\n0  {'intimate': 28, 'moderate': 106, 'strong': 82...   \n1  {'intimate': 610, 'moderate': 3792, 'strong': ...   \n2  {'intimate': 29, 'moderate': 87, 'strong': 18,...   \n3  {'intimate': 12, 'moderate': 136, 'strong': 22...   \n4  {'intimate': 96, 'moderate': 235, 'strong': 66...   \n\n                                              gender price-value     winter  \\\n0  {'female': 116, 'more female': 79, 'unisex': 6...          {}   98.57820   \n1  {'female': 33, 'more female': 5, 'unisex': 164...          {}    9.47292   \n2  {'female': 61, 'more female': 57, 'unisex': 48...          {}   92.00000   \n3  {'female': 7, 'more female': 2, 'unisex': 56, ...          {}  100.00000   \n4  {'female': 252, 'more female': 94, 'unisex': 9...          {}   75.15920   \n\n    spring     summer  fall  day  night  votes  rating  \n0  44.5498   21.32700     0    0      0    547    3.90  \n1  82.0685  100.00000     0    0      0  7,714    4.33  \n2  45.6000   14.40000     0    0      0    382    3.85  \n3  28.3379    8.99183     0    0      0    525    4.56  \n4  74.2038   37.57960     0    0      0    885    4.10  ",
      "text/html": "<div>\n<style scoped>\n    .dataframe tbody tr th:only-of-type {\n        vertical-align: middle;\n    }\n\n    .dataframe tbody tr th {\n        vertical-align: top;\n    }\n\n    .dataframe thead th {\n        text-align: right;\n    }\n</style>\n<table border=\"1\" class=\"dataframe\">\n  <thead>\n    <tr style=\"text-align: right;\">\n      <th></th>\n      <th>name</th>\n      <th>accords</th>\n      <th>notes</th>\n      <th>longevity</th>\n      <th>sillage</th>\n      <th>gender</th>\n      <th>price-value</th>\n      <th>winter</th>\n      <th>spring</th>\n      <th>summer</th>\n      <th>fall</th>\n      <th>day</th>\n      <th>night</th>\n      <th>votes</th>\n      <th>rating</th>\n    </tr>\n  </thead>\n  <tbody>\n    <tr>\n      <th>0</th>\n      <td>Duchessa Gritti for women and men</td>\n      <td>{'warm spicy': 100.0, 'almond': 88.0681, 'swee...</td>\n      <td>&lt;div class=\"cell\"&gt;&lt;div style=\"display: flex; f...</td>\n      <td>{'very weak': 10, 'weak': 25, 'moderate': 89, ...</td>\n      <td>{'intimate': 28, 'moderate': 106, 'strong': 82...</td>\n      <td>{'female': 116, 'more female': 79, 'unisex': 6...</td>\n      <td>{}</td>\n      <td>98.57820</td>\n      <td>44.5498</td>\n      <td>21.32700</td>\n      <td>0</td>\n      <td>0</td>\n      <td>0</td>\n      <td>547</td>\n      <td>3.90</td>\n    </tr>\n    <tr>\n      <th>1</th>\n      <td>Acqua di Giò Profondo Giorgio Armani for men</td>\n      <td>{'aromatic': 100.0, 'marine': 99.9096, 'citrus...</td>\n      <td>&lt;div class=\"cell\"&gt;&lt;div style=\"display: flex; f...</td>\n      <td>{'very weak': 150, 'weak': 390, 'moderate': 30...</td>\n      <td>{'intimate': 610, 'moderate': 3792, 'strong': ...</td>\n      <td>{'female': 33, 'more female': 5, 'unisex': 164...</td>\n      <td>{}</td>\n      <td>9.47292</td>\n      <td>82.0685</td>\n      <td>100.00000</td>\n      <td>0</td>\n      <td>0</td>\n      <td>0</td>\n      <td>7,714</td>\n      <td>4.33</td>\n    </tr>\n    <tr>\n      <th>2</th>\n      <td>Madeleine Masque Milano for women</td>\n      <td>{'lactonic': 100.0, 'vanilla': 95.4457, 'sweet...</td>\n      <td>&lt;div class=\"cell\"&gt;&lt;div style=\"display: flex; f...</td>\n      <td>{'very weak': 5, 'weak': 18, 'moderate': 81, '...</td>\n      <td>{'intimate': 29, 'moderate': 87, 'strong': 18,...</td>\n      <td>{'female': 61, 'more female': 57, 'unisex': 48...</td>\n      <td>{}</td>\n      <td>92.00000</td>\n      <td>45.6000</td>\n      <td>14.40000</td>\n      <td>0</td>\n      <td>0</td>\n      <td>0</td>\n      <td>382</td>\n      <td>3.85</td>\n    </tr>\n    <tr>\n      <th>3</th>\n      <td>Emporio Armani Stronger With You Leather Giorg...</td>\n      <td>{'vanilla': 100.0, 'leather': 87.132, 'balsami...</td>\n      <td>&lt;div class=\"cell\"&gt;&lt;div style=\"display: flex; f...</td>\n      <td>{'very weak': 8, 'weak': 11, 'moderate': 63, '...</td>\n      <td>{'intimate': 12, 'moderate': 136, 'strong': 22...</td>\n      <td>{'female': 7, 'more female': 2, 'unisex': 56, ...</td>\n      <td>{}</td>\n      <td>100.00000</td>\n      <td>28.3379</td>\n      <td>8.99183</td>\n      <td>0</td>\n      <td>0</td>\n      <td>0</td>\n      <td>525</td>\n      <td>4.56</td>\n    </tr>\n    <tr>\n      <th>4</th>\n      <td>Aperitivo Milanese Porta Nuova Trussardi for w...</td>\n      <td>{'powdery': 100.0, 'almond': 97.3641, 'vanilla...</td>\n      <td>&lt;div class=\"cell\"&gt;&lt;div style=\"display: flex; f...</td>\n      <td>{'very weak': 18, 'weak': 65, 'moderate': 204,...</td>\n      <td>{'intimate': 96, 'moderate': 235, 'strong': 66...</td>\n      <td>{'female': 252, 'more female': 94, 'unisex': 9...</td>\n      <td>{}</td>\n      <td>75.15920</td>\n      <td>74.2038</td>\n      <td>37.57960</td>\n      <td>0</td>\n      <td>0</td>\n      <td>0</td>\n      <td>885</td>\n      <td>4.10</td>\n    </tr>\n  </tbody>\n</table>\n</div>"
     },
     "execution_count": 76,
     "metadata": {},
     "output_type": "execute_result"
    }
   ],
   "source": [
    "perfume_data.head()"
   ],
   "metadata": {
    "collapsed": false,
    "ExecuteTime": {
     "end_time": "2024-06-21T23:03:01.583219700Z",
     "start_time": "2024-06-21T23:03:01.459913700Z"
    }
   },
   "id": "bb0dba8764278a32"
  },
  {
   "cell_type": "markdown",
   "source": [
    "## Extracting Notes"
   ],
   "metadata": {
    "collapsed": false
   },
   "id": "6a6c7e2ac59c1077"
  },
  {
   "cell_type": "code",
   "execution_count": 77,
   "outputs": [],
   "source": [
    "def extract_notes(note_div):\n",
    "    \"\"\"Extract notes from a note div.\"\"\"\n",
    "    notes_list = []\n",
    "    note_divs = note_div.find_all(\"div\")\n",
    "    for i in range(2, len(note_divs), 3):\n",
    "        notes_list.append(note_divs[i].get_text())\n",
    "    return notes_list\n",
    "\n",
    "\n",
    "def parse_fragrance_notes(html_element):\n",
    "    \"\"\"Parse fragrance notes from the BeautifulSoup object.\"\"\"\n",
    "    soup = BeautifulSoup(html_element, 'html.parser')\n",
    "    note_style = \"display: flex; justify-content: center; text-align: center; flex-flow: wrap; align-items: flex-end; padding: 0.5rem;\"\n",
    "    notes = soup.find_all(\"div\", attrs={\"style\": note_style})\n",
    "\n",
    "    top_notes_list = []\n",
    "    middle_notes_list = []\n",
    "    base_notes_list = []\n",
    "\n",
    "    if len(notes) == 3:\n",
    "        top_notes_list = extract_notes(notes[0])\n",
    "        middle_notes_list = extract_notes(notes[1])\n",
    "        base_notes_list = extract_notes(notes[2])\n",
    "    elif len(notes) == 2:\n",
    "        top_notes_list = extract_notes(notes[0])\n",
    "        middle_notes_list = extract_notes(notes[1])\n",
    "    elif len(notes) == 1:\n",
    "        middle_notes_list = extract_notes(notes[0])\n",
    "\n",
    "    return top_notes_list, middle_notes_list, base_notes_list\n"
   ],
   "metadata": {
    "collapsed": false,
    "ExecuteTime": {
     "end_time": "2024-06-21T23:03:01.584217300Z",
     "start_time": "2024-06-21T23:03:01.482109200Z"
    }
   },
   "id": "9335184301f7369d"
  },
  {
   "cell_type": "code",
   "execution_count": 78,
   "outputs": [
    {
     "name": "stdout",
     "output_type": "stream",
     "text": [
      "(['Saffron', 'Black Cherry', 'Bitter Orange', 'Peach'], ['Cloves', 'Chocolate', 'Jasmine'], ['Sweet Almond', 'Iris', 'Brown sugar'])\n"
     ]
    }
   ],
   "source": [
    "test_notes = \"\"\"\n",
    "<div class=\"cell\"><div style=\"display: flex; flex-direction: column; justify-content: center; text-align: center; background: white;\"><div class=\"strike-title\"><span>Perfume Pyramid</span></div><div><div style=\"display: flex; justify-content: center;\"><div class=\"button-group\" style=\"margin: auto; flex-grow: 0;\"><div class=\"switch tiny\" style=\"display: inline-block;\"><input id=\"showDiagram\" type=\"checkbox\" name=\"showDiagram\" class=\"switch-input\"> <label for=\"showDiagram\" class=\"switch-paddle\"><span class=\"show-for-sr\">Show votes</span></label></div> <span style=\"margin: 0px 1rem;\">Show votes</span></div></div> <div class=\"text-center notes-box\"><!----> <!----></div><h4 style=\"margin-top: 0.5rem;\"><b>Top Notes</b></h4><div><!----> <div style=\"display: flex; justify-content: center; text-align: center; flex-flow: wrap; align-items: flex-end; padding: 0.5rem;\"><div style=\"margin: 0.2rem; display: flex; justify-content: center; flex-direction: column; text-align: center; opacity: 1; position: relative;\"><div><img loading=\"lazy\" src=\"https://fimgs.net/mdimg/sastojci/t.55.jpg\" style=\"width: 4.7rem;\"></div><div><a href=\"https://www.fragrantica.com/notes/Saffron-55.html\"><span class=\"link-span\"></span></a>Saffron</div></div><div style=\"margin: 0.2rem; display: flex; justify-content: center; flex-direction: column; text-align: center; opacity: 1; position: relative;\"><div><img loading=\"lazy\" src=\"https://fimgs.net/mdimg/sastojci/t.1376.jpg\" style=\"width: 4rem;\"></div><div><a href=\"https://www.fragrantica.com/notes/Black-Cherry-1376.html\"><span class=\"link-span\"></span></a>Black Cherry</div></div><div style=\"margin: 0.2rem; display: flex; justify-content: center; flex-direction: column; text-align: center; opacity: 0.930955; position: relative;\"><div><img loading=\"lazy\" src=\"https://fimgs.net/mdimg/sastojci/t.79.jpg\" style=\"width: 3.5rem;\"></div><div><a href=\"https://www.fragrantica.com/notes/Bitter-Orange-79.html\"><span class=\"link-span\"></span></a>Bitter Orange</div></div><div style=\"margin: 0.2rem; display: flex; justify-content: center; flex-direction: column; text-align: center; opacity: 0.735089; position: relative;\"><div><img loading=\"lazy\" src=\"https://fimgs.net/mdimg/sastojci/t.117.jpg\" style=\"width: 2.5rem;\"></div><div><a href=\"https://www.fragrantica.com/notes/Peach-117.html\"><span class=\"link-span\"></span></a>Peach</div></div></div></div><h4 style=\"margin-top: 0.5rem;\"><b>Middle Notes</b></h4><div><!----> <div style=\"display: flex; justify-content: center; text-align: center; flex-flow: wrap; align-items: flex-end; padding: 0.5rem;\"><div style=\"margin: 0.2rem; display: flex; justify-content: center; flex-direction: column; text-align: center; opacity: 0.854803; position: relative;\"><div><img loading=\"lazy\" src=\"https://fimgs.net/mdimg/sastojci/t.61.jpg\" style=\"width: 3.05rem;\"></div><div><a href=\"https://www.fragrantica.com/notes/Cloves-61.html\"><span class=\"link-span\"></span></a>Cloves</div></div><div style=\"margin: 0.2rem; display: flex; justify-content: center; flex-direction: column; text-align: center; opacity: 0.840458; position: relative;\"><div><img loading=\"lazy\" src=\"https://fimgs.net/mdimg/sastojci/t.136.jpg\" style=\"width: 2.975rem;\"></div><div><a href=\"https://www.fragrantica.com/notes/Dark-Chocolate-136.html\"><span class=\"link-span\"></span></a>Chocolate</div></div><div style=\"margin: 0.2rem; display: flex; justify-content: center; flex-direction: column; text-align: center; opacity: 0.804771; position: relative;\"><div><img loading=\"lazy\" src=\"https://fimgs.net/mdimg/sastojci/t.14.jpg\" style=\"width: 2.8rem;\"></div><div><a href=\"https://www.fragrantica.com/notes/Jasmine-14.html\"><span class=\"link-span\"></span></a>Jasmine</div></div></div></div><h4 style=\"margin-top: 0.5rem;\"><b>Base Notes</b></h4><div><!----> <div style=\"display: flex; justify-content: center; text-align: center; flex-flow: wrap; align-items: flex-end; padding: 0.5rem;\"><div style=\"margin: 0.2rem; display: flex; justify-content: center; flex-direction: column; text-align: center; opacity: 1; position: relative;\"><div><img loading=\"lazy\" src=\"https://fimgs.net/mdimg/sastojci/t.130.jpg\" style=\"width: 5rem;\"></div><div><a href=\"https://www.fragrantica.com/notes/Almond-130.html\"><span class=\"link-span\"></span></a>Sweet Almond</div></div><div style=\"margin: 0.2rem; display: flex; justify-content: center; flex-direction: column; text-align: center; opacity: 0.886308; position: relative;\"><div><img loading=\"lazy\" src=\"https://fimgs.net/mdimg/sastojci/t.11.jpg\" style=\"width: 3.225rem;\"></div><div><a href=\"https://www.fragrantica.com/notes/Iris-11.html\"><span class=\"link-span\"></span></a>Iris</div></div><div style=\"margin: 0.2rem; display: flex; justify-content: center; flex-direction: column; text-align: center; opacity: 0.815302; position: relative;\"><div><img loading=\"lazy\" src=\"https://fimgs.net/mdimg/sastojci/t.521.jpg\" style=\"width: 2.85rem;\"></div><div><a href=\"https://www.fragrantica.com/notes/Brown-Sugar-521.html\"><span class=\"link-span\"></span></a>Brown sugar</div></div></div></div></div></div></div><div class=\"cell text-center\"><button data-open=\"NotesRatingModal\" class=\"button small\" aria-controls=\"NotesRatingModal\" aria-haspopup=\"dialog\" tabindex=\"0\">Vote for Ingredients</button></div>\n",
    "\"\"\"\n",
    "print(parse_fragrance_notes(test_notes))"
   ],
   "metadata": {
    "collapsed": false,
    "ExecuteTime": {
     "end_time": "2024-06-21T23:03:01.623113200Z",
     "start_time": "2024-06-21T23:03:01.496767600Z"
    }
   },
   "id": "2302e96b0735b5e2"
  },
  {
   "cell_type": "code",
   "execution_count": 79,
   "outputs": [],
   "source": [
    "parsed_notes = perfume_data['notes'].apply(parse_fragrance_notes)\n",
    "# Create new columns 1, 2, and 3 from the parsed notes\n",
    "# TODO Ask team whether to store different note categories in different columns\n",
    "perfume_data[[\"top notes\",\t\"middle notes\",\t\"base notes\"]] = pd.DataFrame(parsed_notes.tolist(), index=perfume_data.index)"
   ],
   "metadata": {
    "collapsed": false,
    "ExecuteTime": {
     "end_time": "2024-06-21T23:03:01.875109100Z",
     "start_time": "2024-06-21T23:03:01.511411700Z"
    }
   },
   "id": "35656e666c425975"
  },
  {
   "cell_type": "code",
   "execution_count": 80,
   "outputs": [],
   "source": [
    "perfume_data = perfume_data.drop(columns=['notes'])"
   ],
   "metadata": {
    "collapsed": false,
    "ExecuteTime": {
     "end_time": "2024-06-21T23:03:01.880097600Z",
     "start_time": "2024-06-21T23:03:01.743102900Z"
    }
   },
   "id": "9928b3bdd5f36013"
  },
  {
   "cell_type": "code",
   "execution_count": 81,
   "outputs": [
    {
     "data": {
      "text/plain": "                                                name  \\\n0                  Duchessa Gritti for women and men   \n1       Acqua di Giò Profondo Giorgio Armani for men   \n2                  Madeleine Masque Milano for women   \n3  Emporio Armani Stronger With You Leather Giorg...   \n4  Aperitivo Milanese Porta Nuova Trussardi for w...   \n\n                                             accords  \\\n0  {'warm spicy': 100.0, 'almond': 88.0681, 'swee...   \n1  {'aromatic': 100.0, 'marine': 99.9096, 'citrus...   \n2  {'lactonic': 100.0, 'vanilla': 95.4457, 'sweet...   \n3  {'vanilla': 100.0, 'leather': 87.132, 'balsami...   \n4  {'powdery': 100.0, 'almond': 97.3641, 'vanilla...   \n\n                                           longevity  \\\n0  {'very weak': 10, 'weak': 25, 'moderate': 89, ...   \n1  {'very weak': 150, 'weak': 390, 'moderate': 30...   \n2  {'very weak': 5, 'weak': 18, 'moderate': 81, '...   \n3  {'very weak': 8, 'weak': 11, 'moderate': 63, '...   \n4  {'very weak': 18, 'weak': 65, 'moderate': 204,...   \n\n                                             sillage  \\\n0  {'intimate': 28, 'moderate': 106, 'strong': 82...   \n1  {'intimate': 610, 'moderate': 3792, 'strong': ...   \n2  {'intimate': 29, 'moderate': 87, 'strong': 18,...   \n3  {'intimate': 12, 'moderate': 136, 'strong': 22...   \n4  {'intimate': 96, 'moderate': 235, 'strong': 66...   \n\n                                              gender price-value     winter  \\\n0  {'female': 116, 'more female': 79, 'unisex': 6...          {}   98.57820   \n1  {'female': 33, 'more female': 5, 'unisex': 164...          {}    9.47292   \n2  {'female': 61, 'more female': 57, 'unisex': 48...          {}   92.00000   \n3  {'female': 7, 'more female': 2, 'unisex': 56, ...          {}  100.00000   \n4  {'female': 252, 'more female': 94, 'unisex': 9...          {}   75.15920   \n\n    spring     summer  fall  day  night  votes  rating  \\\n0  44.5498   21.32700     0    0      0    547    3.90   \n1  82.0685  100.00000     0    0      0  7,714    4.33   \n2  45.6000   14.40000     0    0      0    382    3.85   \n3  28.3379    8.99183     0    0      0    525    4.56   \n4  74.2038   37.57960     0    0      0    885    4.10   \n\n                                         top notes  \\\n0    [Saffron, Black Cherry, Bitter Orange, Peach]   \n1  [Sea Notes, Aquozone, Bergamot, Green Mandarin]   \n2                 [Chestnut, Whipped Cream, Cumin]   \n3                        [Chestnut, Spices, elemi]   \n4      [Calabrian bergamot, Neroli, Mandarin Leaf]   \n\n                                        middle notes  \\\n0                       [Cloves, Chocolate, Jasmine]   \n1  [Rosemary, Lavender, Cypress, Mastic or Lentis...   \n2                      [Tuberose, Geranium, Cypress]   \n3                                   [Lavender, Sage]   \n4                       [Amaretto, Iris, Heliotrope]   \n\n                                        base notes  \n0                [Sweet Almond, Iris, Brown sugar]  \n1          [Mineral notes, Musk, Patchouli, Amber]  \n2            [Milk, Vanilla Pod, Musk, Tonka Bean]  \n3  [Vanilla, Leather, Guaiac Wood, Agarwood (Oud)]  \n4                        [Vanilla, Benzoin, Amber]  ",
      "text/html": "<div>\n<style scoped>\n    .dataframe tbody tr th:only-of-type {\n        vertical-align: middle;\n    }\n\n    .dataframe tbody tr th {\n        vertical-align: top;\n    }\n\n    .dataframe thead th {\n        text-align: right;\n    }\n</style>\n<table border=\"1\" class=\"dataframe\">\n  <thead>\n    <tr style=\"text-align: right;\">\n      <th></th>\n      <th>name</th>\n      <th>accords</th>\n      <th>longevity</th>\n      <th>sillage</th>\n      <th>gender</th>\n      <th>price-value</th>\n      <th>winter</th>\n      <th>spring</th>\n      <th>summer</th>\n      <th>fall</th>\n      <th>day</th>\n      <th>night</th>\n      <th>votes</th>\n      <th>rating</th>\n      <th>top notes</th>\n      <th>middle notes</th>\n      <th>base notes</th>\n    </tr>\n  </thead>\n  <tbody>\n    <tr>\n      <th>0</th>\n      <td>Duchessa Gritti for women and men</td>\n      <td>{'warm spicy': 100.0, 'almond': 88.0681, 'swee...</td>\n      <td>{'very weak': 10, 'weak': 25, 'moderate': 89, ...</td>\n      <td>{'intimate': 28, 'moderate': 106, 'strong': 82...</td>\n      <td>{'female': 116, 'more female': 79, 'unisex': 6...</td>\n      <td>{}</td>\n      <td>98.57820</td>\n      <td>44.5498</td>\n      <td>21.32700</td>\n      <td>0</td>\n      <td>0</td>\n      <td>0</td>\n      <td>547</td>\n      <td>3.90</td>\n      <td>[Saffron, Black Cherry, Bitter Orange, Peach]</td>\n      <td>[Cloves, Chocolate, Jasmine]</td>\n      <td>[Sweet Almond, Iris, Brown sugar]</td>\n    </tr>\n    <tr>\n      <th>1</th>\n      <td>Acqua di Giò Profondo Giorgio Armani for men</td>\n      <td>{'aromatic': 100.0, 'marine': 99.9096, 'citrus...</td>\n      <td>{'very weak': 150, 'weak': 390, 'moderate': 30...</td>\n      <td>{'intimate': 610, 'moderate': 3792, 'strong': ...</td>\n      <td>{'female': 33, 'more female': 5, 'unisex': 164...</td>\n      <td>{}</td>\n      <td>9.47292</td>\n      <td>82.0685</td>\n      <td>100.00000</td>\n      <td>0</td>\n      <td>0</td>\n      <td>0</td>\n      <td>7,714</td>\n      <td>4.33</td>\n      <td>[Sea Notes, Aquozone, Bergamot, Green Mandarin]</td>\n      <td>[Rosemary, Lavender, Cypress, Mastic or Lentis...</td>\n      <td>[Mineral notes, Musk, Patchouli, Amber]</td>\n    </tr>\n    <tr>\n      <th>2</th>\n      <td>Madeleine Masque Milano for women</td>\n      <td>{'lactonic': 100.0, 'vanilla': 95.4457, 'sweet...</td>\n      <td>{'very weak': 5, 'weak': 18, 'moderate': 81, '...</td>\n      <td>{'intimate': 29, 'moderate': 87, 'strong': 18,...</td>\n      <td>{'female': 61, 'more female': 57, 'unisex': 48...</td>\n      <td>{}</td>\n      <td>92.00000</td>\n      <td>45.6000</td>\n      <td>14.40000</td>\n      <td>0</td>\n      <td>0</td>\n      <td>0</td>\n      <td>382</td>\n      <td>3.85</td>\n      <td>[Chestnut, Whipped Cream, Cumin]</td>\n      <td>[Tuberose, Geranium, Cypress]</td>\n      <td>[Milk, Vanilla Pod, Musk, Tonka Bean]</td>\n    </tr>\n    <tr>\n      <th>3</th>\n      <td>Emporio Armani Stronger With You Leather Giorg...</td>\n      <td>{'vanilla': 100.0, 'leather': 87.132, 'balsami...</td>\n      <td>{'very weak': 8, 'weak': 11, 'moderate': 63, '...</td>\n      <td>{'intimate': 12, 'moderate': 136, 'strong': 22...</td>\n      <td>{'female': 7, 'more female': 2, 'unisex': 56, ...</td>\n      <td>{}</td>\n      <td>100.00000</td>\n      <td>28.3379</td>\n      <td>8.99183</td>\n      <td>0</td>\n      <td>0</td>\n      <td>0</td>\n      <td>525</td>\n      <td>4.56</td>\n      <td>[Chestnut, Spices, elemi]</td>\n      <td>[Lavender, Sage]</td>\n      <td>[Vanilla, Leather, Guaiac Wood, Agarwood (Oud)]</td>\n    </tr>\n    <tr>\n      <th>4</th>\n      <td>Aperitivo Milanese Porta Nuova Trussardi for w...</td>\n      <td>{'powdery': 100.0, 'almond': 97.3641, 'vanilla...</td>\n      <td>{'very weak': 18, 'weak': 65, 'moderate': 204,...</td>\n      <td>{'intimate': 96, 'moderate': 235, 'strong': 66...</td>\n      <td>{'female': 252, 'more female': 94, 'unisex': 9...</td>\n      <td>{}</td>\n      <td>75.15920</td>\n      <td>74.2038</td>\n      <td>37.57960</td>\n      <td>0</td>\n      <td>0</td>\n      <td>0</td>\n      <td>885</td>\n      <td>4.10</td>\n      <td>[Calabrian bergamot, Neroli, Mandarin Leaf]</td>\n      <td>[Amaretto, Iris, Heliotrope]</td>\n      <td>[Vanilla, Benzoin, Amber]</td>\n    </tr>\n  </tbody>\n</table>\n</div>"
     },
     "execution_count": 81,
     "metadata": {},
     "output_type": "execute_result"
    }
   ],
   "source": [
    "perfume_data.head()"
   ],
   "metadata": {
    "collapsed": false,
    "ExecuteTime": {
     "end_time": "2024-06-21T23:03:01.907023500Z",
     "start_time": "2024-06-21T23:03:01.753996900Z"
    }
   },
   "id": "33ac338dfca92515"
  },
  {
   "cell_type": "markdown",
   "source": [
    "# Storing Data in new file"
   ],
   "metadata": {
    "collapsed": false
   },
   "id": "55bd92ddbd232255"
  },
  {
   "cell_type": "code",
   "execution_count": 83,
   "outputs": [],
   "source": [
    "perfume_data.to_csv('Converted_scraped_data.csv', index=False)"
   ],
   "metadata": {
    "collapsed": false,
    "ExecuteTime": {
     "end_time": "2024-06-21T23:14:27.061546600Z",
     "start_time": "2024-06-21T23:14:27.039615900Z"
    }
   },
   "id": "e8dc18f6e5159c46"
  }
 ],
 "metadata": {
  "kernelspec": {
   "display_name": "Python 3",
   "language": "python",
   "name": "python3"
  },
  "language_info": {
   "codemirror_mode": {
    "name": "ipython",
    "version": 2
   },
   "file_extension": ".py",
   "mimetype": "text/x-python",
   "name": "python",
   "nbconvert_exporter": "python",
   "pygments_lexer": "ipython2",
   "version": "2.7.6"
  }
 },
 "nbformat": 4,
 "nbformat_minor": 5
}
